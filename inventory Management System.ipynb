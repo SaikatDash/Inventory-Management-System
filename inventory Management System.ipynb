{
 "cells": [
  {
   "cell_type": "markdown",
   "id": "59955cb6-3db5-43d7-a622-85758980053e",
   "metadata": {},
   "source": [
    "## Project Name :  Inventory Management System"
   ]
  },
  {
   "cell_type": "markdown",
   "id": "842ff54f-df8f-46ad-a994-21e6320cc54c",
   "metadata": {},
   "source": [
    "## Description"
   ]
  },
  {
   "cell_type": "markdown",
   "id": "6ae2787a-d13b-4915-9824-998030aecc00",
   "metadata": {},
   "source": [
    "## Created a Inventory management System where every time after purchase anything from a store , Inventory Update itself and also according to the Customer Requirement Supplies are giving and also calculate the bill amount according to the purchase items and quantity."
   ]
  },
  {
   "cell_type": "markdown",
   "id": "e1ebbe0f-cd6a-4268-a4e9-35836920b556",
   "metadata": {},
   "source": [
    "## Product Details\n",
    "1. Product ID\n",
    "2. Product name\n",
    "3. Price\n",
    "4. Quantity"
   ]
  },
  {
   "cell_type": "code",
   "execution_count": 118,
   "id": "48557cba-c199-4438-a05e-fd963469cdfc",
   "metadata": {},
   "outputs": [
    {
     "name": "stdin",
     "output_type": "stream",
     "text": [
      "Enter product ID:  2\n",
      "Enter product Quantity:  400\n"
     ]
    },
    {
     "name": "stdout",
     "output_type": "stream",
     "text": [
      "Sorry, We're not having enought quantity.\n",
      "We're having only 0 quantity.\n",
      "Would you like to purchase it?\n"
     ]
    },
    {
     "name": "stdin",
     "output_type": "stream",
     "text": [
      "Press Y/N:  y\n"
     ]
    },
    {
     "name": "stdout",
     "output_type": "stream",
     "text": [
      "-----------------------------\n",
      "Product Name     :  Cake\n",
      "Price            :  250\n",
      "Quantity         :  0\n",
      "-----------------------------\n",
      "Billing Amount   :  25000\n",
      "-----------------------------\n",
      "-------------------\n",
      "Inventory Updated\n"
     ]
    }
   ],
   "source": [
    "fd = open('Inventory.txt','r')  \n",
    "products = fd.read().split('\\n')\n",
    "fd.close()\n",
    "\n",
    "# Taling User Input\n",
    "ui_prod_id = input(\"Enter product ID: \")\n",
    "ui_prod_qn = input(\"Enter product Quantity: \")\n",
    "\n",
    "updated_product_lst = []\n",
    "\n",
    "# Going through each product detail\n",
    "for product in products:\n",
    "    \n",
    "    prod_details = product.split(',')\n",
    "    \n",
    "    if(prod_details[0] == ui_prod_id):\n",
    "    # Checking if product exists or not\n",
    "\n",
    "        if (int(ui_prod_qn) <= int(prod_details[3])):\n",
    "        # If we're having enough quantity\n",
    "        \n",
    "            print(\"-----------------------------\")\n",
    "            print(\"Product Name     : \", prod_details[1])\n",
    "            print(\"Price            : \", prod_details[2]) \n",
    "            print(\"Quantity         : \", ui_prod_qn) \n",
    "            print(\"-----------------------------\")\n",
    "            print(\"Billing Amount   : \", int(ui_prod_qn) * int(prod_details[2]))\n",
    "            print(\"-----------------------------\")\n",
    "\n",
    "            prod_details[3] = str(int(prod_details[3]) - int(ui_prod_qn))\n",
    "            \n",
    "        else:\n",
    "        # If we're not having enough quantity\n",
    "        \n",
    "            print(\"Sorry, We're not having enought quantity.\")\n",
    "            print(\"We're having only\",prod_details[3],'quantity.')\n",
    "            print(\"Would you like to purchase it?\")\n",
    "            \n",
    "            ch = input(\"Press Y/N: \")\n",
    "            \n",
    "            if (ch == 'Y' or ch == 'y'):\n",
    "            # If you want to purchase with remaining quantity\n",
    "            \n",
    "                print(\"-----------------------------\")\n",
    "                print(\"Product Name     : \", prod_details[1])\n",
    "                print(\"Price            : \", prod_details[2]) \n",
    "                print(\"Quantity         : \", prod_details[3]) \n",
    "                print(\"-----------------------------\")\n",
    "                print(\"Billing Amount   : \", int(qn) * int(prod_details[2]))\n",
    "                print(\"-----------------------------\")\n",
    "\n",
    "                prod_details[3] = '0'\n",
    "\n",
    "            else:\n",
    "                print(\"Thanks\")\n",
    "            \n",
    "    # Updating my Inventory List\n",
    "    updated_product_lst.append(prod_details)\n",
    "    \n",
    "\n",
    "    \n",
    "lst = []\n",
    "\n",
    "# Updating my Inventory String\n",
    "for i in updated_product_lst:\n",
    "    prod = i[0] +\",\"+  i[1] +\",\"+ i[2] +\",\"+ i[3] + '\\n'\n",
    "    lst.append(prod)\n",
    "\n",
    "    \n",
    "lst[-1] = lst[-1][:-1]\n",
    "    \n",
    "\n",
    "# Updating Inventory File\n",
    "fd = open('Inventory.txt','w')\n",
    "\n",
    "for i in lst:\n",
    "    fd.write(i)\n",
    "\n",
    "fd.close()\n",
    "\n",
    "print(\"-------------------\")\n",
    "print(\"Inventory Updated\")"
   ]
  },
  {
   "cell_type": "code",
   "execution_count": null,
   "id": "82c1a5ac-cbb9-46f7-8a31-ee1355f93920",
   "metadata": {},
   "outputs": [],
   "source": []
  }
 ],
 "metadata": {
  "kernelspec": {
   "display_name": "Python 3 (ipykernel)",
   "language": "python",
   "name": "python3"
  },
  "language_info": {
   "codemirror_mode": {
    "name": "ipython",
    "version": 3
   },
   "file_extension": ".py",
   "mimetype": "text/x-python",
   "name": "python",
   "nbconvert_exporter": "python",
   "pygments_lexer": "ipython3",
   "version": "3.11.7"
  }
 },
 "nbformat": 4,
 "nbformat_minor": 5
}
